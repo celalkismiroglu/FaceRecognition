{
 "cells": [
  {
   "cell_type": "code",
   "execution_count": 3,
   "id": "e8a5b00f",
   "metadata": {},
   "outputs": [],
   "source": [
    "import cv2\n",
    "import face_recognition\n",
    "import dlib\n",
    "\n",
    "detector = dlib.get_frontal_face_detector()\n",
    "celalimage = face_recognition.load_image_file(\"myface.jpg\")\n",
    "celalimageencoding = face_recognition.face_encodings(celalimage)[0]\n",
    "\n",
    "#cap = cv2.VideoCapture(\"myvideo.mp4\")\n",
    "cap = cv2.VideoCapture(0)\n",
    "\n",
    "while True:\n",
    "    _,frame = cap.read()\n",
    "    #frame = cv2.rotate(frame, cv2.ROTATE_180)\n",
    "    #frame = cv2.resize(frame,(240,320))\n",
    "    \n",
    "    face_locations = []\n",
    "    faces = detector(frame)\n",
    "    for face in faces:\n",
    "        x = face.left()\n",
    "        y = face.top()\n",
    "        w = face.right()\n",
    "        h = face.bottom()\n",
    "        face_locations.append((y,w,h,x))\n",
    "    faces_encodigs = face_recognition.face_encodings(frame,face_locations)\n",
    "    i = 0\n",
    "    for face in faces_encodigs:\n",
    "        y,w,h,x = face_locations[i]\n",
    "        i+=1\n",
    "        result = face_recognition.compare_faces([celalimageencoding],face)\n",
    "        if result[0] == True:\n",
    "            cv2.rectangle(frame,(x,y),(w,h),(0,0,255),2)\n",
    "            cv2.rectangle(frame,(x,h),(w,h+30),(0,0,255),-1)\n",
    "            cv2.putText(frame,\"celalettin\",(x,h+25),cv2.FONT_HERSHEY_PLAIN,1,(255,255,255),1)\n",
    "            frame = cv2.resize(frame,(480,640))\n",
    "        else:\n",
    "            cv2.rectangle(frame,(x,y),(w,h),(0,0,255),2)\n",
    "            cv2.rectangle(frame,(x,h),(w,h+30),(0,0,255),-1)\n",
    "            cv2.putText(frame,\"unknown\",(x,h+25),cv2.FONT_HERSHEY_PLAIN,1,(255,255,255),1)\n",
    "            frame = cv2.resize(frame,(480,640))\n",
    "    cv2.imshow(\"frame\",frame)\n",
    "    if cv2.waitKey(1) & 0xff == ord(\"q\"):\n",
    "        break\n",
    "\n",
    "cap.release()\n",
    "cv2.destroyAllWindows()\n",
    "\n"
   ]
  },
  {
   "cell_type": "code",
   "execution_count": null,
   "id": "613700a2",
   "metadata": {},
   "outputs": [],
   "source": []
  }
 ],
 "metadata": {
  "kernelspec": {
   "display_name": "Python 3 (ipykernel)",
   "language": "python",
   "name": "python3"
  },
  "language_info": {
   "codemirror_mode": {
    "name": "ipython",
    "version": 3
   },
   "file_extension": ".py",
   "mimetype": "text/x-python",
   "name": "python",
   "nbconvert_exporter": "python",
   "pygments_lexer": "ipython3",
   "version": "3.8.6"
  }
 },
 "nbformat": 4,
 "nbformat_minor": 5
}
